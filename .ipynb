{
 "cells": [
  {
   "cell_type": "code",
   "execution_count": 72,
   "metadata": {},
   "outputs": [
    {
     "name": "stdout",
     "output_type": "stream",
     "text": [
      "Population            3.421415e+07\n",
      "Area (sq. mi.)        5.641830e+05\n",
      "GDP ($ per capita)    9.125698e+03\n",
      "Birthrate             2.306749e+01\n",
      "dtype: float64\n",
      "Population            1.317639e+08\n",
      "Area (sq. mi.)        1.395657e+06\n",
      "GDP ($ per capita)    9.644123e+03\n",
      "Birthrate             1.128721e+01\n",
      "dtype: float64\n",
      "50.73\n",
      "7.29\n"
     ]
    },
    {
     "data": {
      "text/plain": [
       "Guadeloupe                           1\n",
       "Mauritius                            1\n",
       "Iraq                                 1\n",
       "Kuwait                               1\n",
       "French Guiana                        1\n",
       "Costa Rica                           1\n",
       "Colombia                             1\n",
       "Congo, Repub. of the                 1\n",
       "Cayman Islands                       1\n",
       "Latvia                               1\n",
       "Azerbaijan                           1\n",
       "Indonesia                            1\n",
       "China                                1\n",
       "Paraguay                             1\n",
       "Argentina                            1\n",
       "India                                1\n",
       "Zimbabwe                             1\n",
       "Saint Vincent and the Grenadines     1\n",
       "Cameroon                             1\n",
       "Portugal                             1\n",
       "Madagascar                           1\n",
       "Finland                              1\n",
       "Estonia                              1\n",
       "Switzerland                          1\n",
       "Iran                                 1\n",
       "Nicaragua                            1\n",
       "Thailand                             1\n",
       "Djibouti                             1\n",
       "Japan                                1\n",
       "Peru                                 1\n",
       "                                    ..\n",
       "Malawi                               1\n",
       "Sri Lanka                            1\n",
       "Taiwan                               1\n",
       "Niger                                1\n",
       "Poland                               1\n",
       "Saint Lucia                          1\n",
       "Grenada                              1\n",
       "Reunion                              1\n",
       "Turkey                               1\n",
       "Ecuador                              1\n",
       "Czech Republic                       1\n",
       "Uruguay                              1\n",
       "Senegal                              1\n",
       "Fiji                                 1\n",
       "Brazil                               1\n",
       "Vietnam                              1\n",
       "Chad                                 1\n",
       "Sao Tome & Principe                  1\n",
       "Malaysia                             1\n",
       "Marshall Islands                     1\n",
       "Jordan                               1\n",
       "Qatar                                1\n",
       "Swaziland                            1\n",
       "Equatorial Guinea                    1\n",
       "Comoros                              1\n",
       "Nigeria                              1\n",
       "Burma                                1\n",
       "Spain                                1\n",
       "Turkmenistan                         1\n",
       "New Zealand                          1\n",
       "Name: Country, Length: 179, dtype: int64"
      ]
     },
     "execution_count": 72,
     "metadata": {},
     "output_type": "execute_result"
    }
   ],
   "source": [
    "import pandas as pd\n",
    "import numpy as np\n",
    "import matplotlib.pyplot as plt\n",
    "\n",
    "df = pd.read_csv(\"C:\\\\Users\\\\Square Bear\\\\Documents\\\\Thinkful\\\\Datasets\\\\countries of the world.csv\")\n",
    "\n",
    "df = df.dropna()\n",
    "\n",
    "df['Birthrate'] = df['Birthrate'].str.replace(',','.')\n",
    "df['Birthrate'] = df['Birthrate'].apply(float)\n",
    "\n",
    "np.mean(df), np.std(df, ddof = 1) / np.sqrt(len(df))\n",
    "print(df.mean()) \n",
    "'\\n'\n",
    "'\\n'\n",
    "print(df.std())\n",
    "'\\n'\n",
    "print(df.Birthrate.max())\n",
    "'\\n'\n",
    "print(df.Birthrate.min())\n",
    "\n",
    "df.Country.value_counts()"
   ]
  },
  {
   "cell_type": "code",
   "execution_count": null,
   "metadata": {},
   "outputs": [],
   "source": []
  }
 ],
 "metadata": {
  "kernelspec": {
   "display_name": "Python 3",
   "language": "python",
   "name": "python3"
  },
  "language_info": {
   "codemirror_mode": {
    "name": "ipython",
    "version": 3
   },
   "file_extension": ".py",
   "mimetype": "text/x-python",
   "name": "python",
   "nbconvert_exporter": "python",
   "pygments_lexer": "ipython3",
   "version": "3.7.1"
  }
 },
 "nbformat": 4,
 "nbformat_minor": 2
}
