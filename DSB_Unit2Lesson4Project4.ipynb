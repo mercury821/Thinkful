{
 "cells": [
  {
   "cell_type": "markdown",
   "metadata": {},
   "source": [
    "Prepare this data to model with multivariable regression (including data cleaning if necessary) according to this specification:\n",
    "\n",
    "𝑃𝑟𝑜𝑝𝑒𝑟𝑡𝑦𝑐𝑟𝑖𝑚𝑒=𝛼+𝑃𝑜𝑝𝑢𝑙𝑎𝑡𝑖𝑜𝑛+𝑃𝑜𝑝𝑢𝑙𝑎𝑡𝑖𝑜𝑛2+𝑀𝑢𝑟𝑑𝑒𝑟+𝑅𝑜𝑏𝑏𝑒𝑟𝑦"
   ]
  },
  {
   "cell_type": "code",
   "execution_count": 1,
   "metadata": {},
   "outputs": [],
   "source": [
    "import pandas as pd\n",
    "from matplotlib import pyplot as plt\n",
    "import numpy as np\n",
    "from sklearn import linear_model\n",
    "%matplotlib inline\n",
    "pd.options.display.float_format = '{:.3f}'.format\n",
    "from sklearn.model_selection import cross_val_score\n",
    "from sklearn.model_selection import KFold\n",
    "from sklearn import metrics\n",
    "from sklearn.model_selection import train_test_split\n",
    "import seaborn as sns\n",
    "\n",
    "# Suppress annoying harmless error.\n",
    "import warnings\n",
    "warnings.filterwarnings(action=\"ignore\", module=\"scipy\", message=\"^internal gelsd\")"
   ]
  },
  {
   "cell_type": "code",
   "execution_count": 2,
   "metadata": {},
   "outputs": [],
   "source": [
    "crime = pd.read_excel('C:\\\\Users\\\\Square Bear\\\\Documents\\\\Thinkful\\\\Datasets\\\\table_8_offenses_known_to_law_enforcement_new_york_by_city_2013.xls')"
   ]
  },
  {
   "cell_type": "code",
   "execution_count": 3,
   "metadata": {},
   "outputs": [],
   "source": [
    "crime.rename(columns = {\n",
    "'Table 8':'City','Unnamed: 1':'Population','Unnamed: 2':'Violent_crime',\n",
    "'Unnamed: 3':'Murder_manslaughter','Unnamed: 4':'Rape_1',\n",
    "'Unnamed: 5':'Rape_2','Unnamed: 6':'Robbery', 'Unnamed: 7':'Agg_assault',\n",
    "'Unnamed: 8':'Property_crime', 'Unnamed: 9':'Burglary', 'Unnamed: 10': 'Larceny_theft',\n",
    "'Unnamed: 11':'Motor_theft','Unnamed: 12':'Arson'\n",
    "}, inplace = True)"
   ]
  },
  {
   "cell_type": "code",
   "execution_count": 4,
   "metadata": {},
   "outputs": [],
   "source": [
    "crime['Population'] = pd.to_numeric(crime['Population'], errors='coerce')\n",
    "crime['Violent_crime'] = pd.to_numeric(crime['Violent_crime'], errors='coerce')\n",
    "crime['Murder_manslaughter'] = pd.to_numeric(crime['Murder_manslaughter'], errors='coerce')\n",
    "crime['Rape_2'] = pd.to_numeric(crime['Rape_2'], errors='coerce')\n",
    "crime['Robbery'] = pd.to_numeric(crime['Robbery'], errors='coerce')\n",
    "crime['Agg_assault'] = pd.to_numeric(crime['Agg_assault'], errors='coerce')\n",
    "crime['Property_crime'] = pd.to_numeric(crime['Property_crime'], errors='coerce')\n",
    "crime['Burglary'] = pd.to_numeric(crime['Burglary'], errors='coerce')\n",
    "crime['Larceny_theft'] = pd.to_numeric(crime['Larceny_theft'], errors='coerce')\n",
    "crime['Motor_theft'] = pd.to_numeric(crime['Motor_theft'], errors='coerce')\n",
    "crime['Arson'] = pd.to_numeric(crime['Arson'], errors='coerce')\n"
   ]
  },
  {
   "cell_type": "code",
   "execution_count": 5,
   "metadata": {},
   "outputs": [],
   "source": [
    "crime = crime.fillna(crime.mean()) "
   ]
  },
  {
   "cell_type": "code",
   "execution_count": 6,
   "metadata": {},
   "outputs": [
    {
     "name": "stdout",
     "output_type": "stream",
     "text": [
      "<class 'pandas.core.frame.DataFrame'>\n",
      "RangeIndex: 355 entries, 0 to 354\n",
      "Data columns (total 13 columns):\n",
      "City                   355 non-null object\n",
      "Population             355 non-null float64\n",
      "Violent_crime          355 non-null float64\n",
      "Murder_manslaughter    355 non-null float64\n",
      "Rape_1                 1 non-null object\n",
      "Rape_2                 355 non-null float64\n",
      "Robbery                355 non-null float64\n",
      "Agg_assault            355 non-null float64\n",
      "Property_crime         355 non-null float64\n",
      "Burglary               355 non-null float64\n",
      "Larceny_theft          355 non-null float64\n",
      "Motor_theft            355 non-null float64\n",
      "Arson                  355 non-null float64\n",
      "dtypes: float64(11), object(2)\n",
      "memory usage: 36.1+ KB\n"
     ]
    }
   ],
   "source": [
    "crime.info()"
   ]
  },
  {
   "cell_type": "code",
   "execution_count": 7,
   "metadata": {},
   "outputs": [
    {
     "data": {
      "text/html": [
       "<div>\n",
       "<style scoped>\n",
       "    .dataframe tbody tr th:only-of-type {\n",
       "        vertical-align: middle;\n",
       "    }\n",
       "\n",
       "    .dataframe tbody tr th {\n",
       "        vertical-align: top;\n",
       "    }\n",
       "\n",
       "    .dataframe thead th {\n",
       "        text-align: right;\n",
       "    }\n",
       "</style>\n",
       "<table border=\"1\" class=\"dataframe\">\n",
       "  <thead>\n",
       "    <tr style=\"text-align: right;\">\n",
       "      <th></th>\n",
       "      <th>City</th>\n",
       "      <th>Population</th>\n",
       "      <th>Violent_crime</th>\n",
       "      <th>Murder_manslaughter</th>\n",
       "      <th>Rape_2</th>\n",
       "      <th>Robbery</th>\n",
       "      <th>Agg_assault</th>\n",
       "      <th>Property_crime</th>\n",
       "      <th>Burglary</th>\n",
       "      <th>Larceny_theft</th>\n",
       "      <th>Motor_theft</th>\n",
       "      <th>Arson</th>\n",
       "    </tr>\n",
       "  </thead>\n",
       "  <tbody>\n",
       "    <tr>\n",
       "      <th>0</th>\n",
       "      <td>NEW YORK</td>\n",
       "      <td>40037.632</td>\n",
       "      <td>201.595</td>\n",
       "      <td>1.566</td>\n",
       "      <td>5.865</td>\n",
       "      <td>72.902</td>\n",
       "      <td>121.261</td>\n",
       "      <td>792.606</td>\n",
       "      <td>119.684</td>\n",
       "      <td>637.017</td>\n",
       "      <td>35.905</td>\n",
       "      <td>1.872</td>\n",
       "    </tr>\n",
       "    <tr>\n",
       "      <th>1</th>\n",
       "      <td>Offenses Known to Law Enforcement</td>\n",
       "      <td>40037.632</td>\n",
       "      <td>201.595</td>\n",
       "      <td>1.566</td>\n",
       "      <td>5.865</td>\n",
       "      <td>72.902</td>\n",
       "      <td>121.261</td>\n",
       "      <td>792.606</td>\n",
       "      <td>119.684</td>\n",
       "      <td>637.017</td>\n",
       "      <td>35.905</td>\n",
       "      <td>1.872</td>\n",
       "    </tr>\n",
       "    <tr>\n",
       "      <th>2</th>\n",
       "      <td>by City, 2013</td>\n",
       "      <td>40037.632</td>\n",
       "      <td>201.595</td>\n",
       "      <td>1.566</td>\n",
       "      <td>5.865</td>\n",
       "      <td>72.902</td>\n",
       "      <td>121.261</td>\n",
       "      <td>792.606</td>\n",
       "      <td>119.684</td>\n",
       "      <td>637.017</td>\n",
       "      <td>35.905</td>\n",
       "      <td>1.872</td>\n",
       "    </tr>\n",
       "    <tr>\n",
       "      <th>3</th>\n",
       "      <td>City</td>\n",
       "      <td>40037.632</td>\n",
       "      <td>201.595</td>\n",
       "      <td>1.566</td>\n",
       "      <td>5.865</td>\n",
       "      <td>72.902</td>\n",
       "      <td>121.261</td>\n",
       "      <td>792.606</td>\n",
       "      <td>119.684</td>\n",
       "      <td>637.017</td>\n",
       "      <td>35.905</td>\n",
       "      <td>1.872</td>\n",
       "    </tr>\n",
       "    <tr>\n",
       "      <th>4</th>\n",
       "      <td>Adams Village</td>\n",
       "      <td>1861.000</td>\n",
       "      <td>0.000</td>\n",
       "      <td>0.000</td>\n",
       "      <td>0.000</td>\n",
       "      <td>0.000</td>\n",
       "      <td>0.000</td>\n",
       "      <td>12.000</td>\n",
       "      <td>2.000</td>\n",
       "      <td>10.000</td>\n",
       "      <td>0.000</td>\n",
       "      <td>0.000</td>\n",
       "    </tr>\n",
       "  </tbody>\n",
       "</table>\n",
       "</div>"
      ],
      "text/plain": [
       "                                City  Population  Violent_crime  \\\n",
       "0                           NEW YORK   40037.632        201.595   \n",
       "1  Offenses Known to Law Enforcement   40037.632        201.595   \n",
       "2                      by City, 2013   40037.632        201.595   \n",
       "3                               City   40037.632        201.595   \n",
       "4                      Adams Village    1861.000          0.000   \n",
       "\n",
       "   Murder_manslaughter  Rape_2  Robbery  Agg_assault  Property_crime  \\\n",
       "0                1.566   5.865   72.902      121.261         792.606   \n",
       "1                1.566   5.865   72.902      121.261         792.606   \n",
       "2                1.566   5.865   72.902      121.261         792.606   \n",
       "3                1.566   5.865   72.902      121.261         792.606   \n",
       "4                0.000   0.000    0.000        0.000          12.000   \n",
       "\n",
       "   Burglary  Larceny_theft  Motor_theft  Arson  \n",
       "0   119.684        637.017       35.905  1.872  \n",
       "1   119.684        637.017       35.905  1.872  \n",
       "2   119.684        637.017       35.905  1.872  \n",
       "3   119.684        637.017       35.905  1.872  \n",
       "4     2.000         10.000        0.000  0.000  "
      ]
     },
     "execution_count": 7,
     "metadata": {},
     "output_type": "execute_result"
    }
   ],
   "source": [
    "#Remove column because there are no values in column\n",
    "crime = crime.drop(['Rape_1'], axis=1)\n",
    "\n",
    "crime.head()"
   ]
  },
  {
   "cell_type": "code",
   "execution_count": 8,
   "metadata": {},
   "outputs": [],
   "source": [
    "crime = crime.drop(crime.index[0:4])"
   ]
  },
  {
   "cell_type": "code",
   "execution_count": 9,
   "metadata": {},
   "outputs": [
    {
     "data": {
      "text/plain": [
       "City                   0\n",
       "Population             0\n",
       "Violent_crime          0\n",
       "Murder_manslaughter    0\n",
       "Rape_2                 0\n",
       "Robbery                0\n",
       "Agg_assault            0\n",
       "Property_crime         0\n",
       "Burglary               0\n",
       "Larceny_theft          0\n",
       "Motor_theft            0\n",
       "Arson                  0\n",
       "dtype: int64"
      ]
     },
     "execution_count": 9,
     "metadata": {},
     "output_type": "execute_result"
    }
   ],
   "source": [
    "crime.isna().sum()"
   ]
  },
  {
   "cell_type": "code",
   "execution_count": 10,
   "metadata": {},
   "outputs": [
    {
     "data": {
      "text/plain": [
       "<matplotlib.collections.PathCollection at 0x2bdef1b2588>"
      ]
     },
     "execution_count": 10,
     "metadata": {},
     "output_type": "execute_result"
    },
    {
     "data": {
      "image/png": "[encoded data removed]",
      "text/plain": [
       "<Figure size 432x288 with 1 Axes>"
      ]
     },
     "metadata": {
      "needs_background": "light"
     },
     "output_type": "display_data"
    }
   ],
   "source": [
    "x = crime['Property_crime'].values.reshape(-1, 1)\n",
    "y = crime['Larceny_theft']\n",
    "\n",
    "plt.scatter(x, y)"
   ]
  },
  {
   "cell_type": "code",
   "execution_count": 11,
   "metadata": {},
   "outputs": [
    {
     "name": "stdout",
     "output_type": "stream",
     "text": [
      "Coefficients: \n",
      " [0.82821967]\n",
      "Intercept: \n",
      " -19.43490209261347\n"
     ]
    },
    {
     "data": {
      "image/png": "[encoded data removed]",
      "text/plain": [
       "<Figure size 432x288 with 1 Axes>"
      ]
     },
     "metadata": {
      "needs_background": "light"
     },
     "output_type": "display_data"
    }
   ],
   "source": [
    "# Instantiate our model.\n",
    "regr = linear_model.LinearRegression()\n",
    "\n",
    "\n",
    "# Fit our model to our data.\n",
    "regr.fit(x, y)\n",
    "\n",
    "# Display the attributes we calculated.\n",
    "print('Coefficients: \\n', regr.coef_)\n",
    "print('Intercept: \\n', regr.intercept_)\n",
    "\n",
    "# Plot outputs\n",
    "plt.scatter(x, y, color='black')\n",
    "plt.plot(x, regr.predict(x), color='blue', linewidth=3)\n",
    "plt.show()"
   ]
  },
  {
   "cell_type": "code",
   "execution_count": 12,
   "metadata": {},
   "outputs": [
    {
     "data": {
      "text/html": [
       "<div>\n",
       "<style scoped>\n",
       "    .dataframe tbody tr th:only-of-type {\n",
       "        vertical-align: middle;\n",
       "    }\n",
       "\n",
       "    .dataframe tbody tr th {\n",
       "        vertical-align: top;\n",
       "    }\n",
       "\n",
       "    .dataframe thead th {\n",
       "        text-align: right;\n",
       "    }\n",
       "</style>\n",
       "<table border=\"1\" class=\"dataframe\">\n",
       "  <thead>\n",
       "    <tr style=\"text-align: right;\">\n",
       "      <th></th>\n",
       "      <th>Population</th>\n",
       "      <th>Violent_crime</th>\n",
       "      <th>Murder_manslaughter</th>\n",
       "      <th>Rape_2</th>\n",
       "      <th>Robbery</th>\n",
       "      <th>Agg_assault</th>\n",
       "      <th>Property_crime</th>\n",
       "      <th>Burglary</th>\n",
       "      <th>Larceny_theft</th>\n",
       "      <th>Motor_theft</th>\n",
       "      <th>Arson</th>\n",
       "    </tr>\n",
       "  </thead>\n",
       "  <tbody>\n",
       "    <tr>\n",
       "      <th>count</th>\n",
       "      <td>351.000</td>\n",
       "      <td>351.000</td>\n",
       "      <td>351.000</td>\n",
       "      <td>351.000</td>\n",
       "      <td>351.000</td>\n",
       "      <td>351.000</td>\n",
       "      <td>351.000</td>\n",
       "      <td>351.000</td>\n",
       "      <td>351.000</td>\n",
       "      <td>351.000</td>\n",
       "      <td>351.000</td>\n",
       "    </tr>\n",
       "    <tr>\n",
       "      <th>mean</th>\n",
       "      <td>40037.632</td>\n",
       "      <td>201.595</td>\n",
       "      <td>1.566</td>\n",
       "      <td>5.865</td>\n",
       "      <td>72.902</td>\n",
       "      <td>121.261</td>\n",
       "      <td>792.606</td>\n",
       "      <td>119.684</td>\n",
       "      <td>637.017</td>\n",
       "      <td>35.905</td>\n",
       "      <td>1.872</td>\n",
       "    </tr>\n",
       "    <tr>\n",
       "      <th>std</th>\n",
       "      <td>448104.485</td>\n",
       "      <td>2803.177</td>\n",
       "      <td>18.225</td>\n",
       "      <td>60.166</td>\n",
       "      <td>1026.605</td>\n",
       "      <td>1698.804</td>\n",
       "      <td>7626.827</td>\n",
       "      <td>920.976</td>\n",
       "      <td>6318.799</td>\n",
       "      <td>401.691</td>\n",
       "      <td>7.795</td>\n",
       "    </tr>\n",
       "    <tr>\n",
       "      <th>min</th>\n",
       "      <td>526.000</td>\n",
       "      <td>0.000</td>\n",
       "      <td>0.000</td>\n",
       "      <td>0.000</td>\n",
       "      <td>0.000</td>\n",
       "      <td>0.000</td>\n",
       "      <td>0.000</td>\n",
       "      <td>0.000</td>\n",
       "      <td>0.000</td>\n",
       "      <td>0.000</td>\n",
       "      <td>0.000</td>\n",
       "    </tr>\n",
       "    <tr>\n",
       "      <th>25%</th>\n",
       "      <td>3010.500</td>\n",
       "      <td>2.000</td>\n",
       "      <td>0.000</td>\n",
       "      <td>0.000</td>\n",
       "      <td>0.000</td>\n",
       "      <td>1.000</td>\n",
       "      <td>41.000</td>\n",
       "      <td>6.000</td>\n",
       "      <td>31.000</td>\n",
       "      <td>0.000</td>\n",
       "      <td>0.000</td>\n",
       "    </tr>\n",
       "    <tr>\n",
       "      <th>50%</th>\n",
       "      <td>7411.000</td>\n",
       "      <td>6.000</td>\n",
       "      <td>0.000</td>\n",
       "      <td>0.000</td>\n",
       "      <td>1.000</td>\n",
       "      <td>5.000</td>\n",
       "      <td>114.000</td>\n",
       "      <td>18.000</td>\n",
       "      <td>95.000</td>\n",
       "      <td>2.000</td>\n",
       "      <td>1.872</td>\n",
       "    </tr>\n",
       "    <tr>\n",
       "      <th>75%</th>\n",
       "      <td>19324.500</td>\n",
       "      <td>22.000</td>\n",
       "      <td>0.000</td>\n",
       "      <td>2.000</td>\n",
       "      <td>5.000</td>\n",
       "      <td>14.500</td>\n",
       "      <td>343.000</td>\n",
       "      <td>52.500</td>\n",
       "      <td>290.000</td>\n",
       "      <td>7.000</td>\n",
       "      <td>1.872</td>\n",
       "    </tr>\n",
       "    <tr>\n",
       "      <th>max</th>\n",
       "      <td>8396126.000</td>\n",
       "      <td>52384.000</td>\n",
       "      <td>335.000</td>\n",
       "      <td>1112.000</td>\n",
       "      <td>19170.000</td>\n",
       "      <td>31767.000</td>\n",
       "      <td>141971.000</td>\n",
       "      <td>16606.000</td>\n",
       "      <td>117931.000</td>\n",
       "      <td>7434.000</td>\n",
       "      <td>132.000</td>\n",
       "    </tr>\n",
       "  </tbody>\n",
       "</table>\n",
       "</div>"
      ],
      "text/plain": [
       "       Population  Violent_crime  Murder_manslaughter   Rape_2   Robbery  \\\n",
       "count     351.000        351.000              351.000  351.000   351.000   \n",
       "mean    40037.632        201.595                1.566    5.865    72.902   \n",
       "std    448104.485       2803.177               18.225   60.166  1026.605   \n",
       "min       526.000          0.000                0.000    0.000     0.000   \n",
       "25%      3010.500          2.000                0.000    0.000     0.000   \n",
       "50%      7411.000          6.000                0.000    0.000     1.000   \n",
       "75%     19324.500         22.000                0.000    2.000     5.000   \n",
       "max   8396126.000      52384.000              335.000 1112.000 19170.000   \n",
       "\n",
       "       Agg_assault  Property_crime  Burglary  Larceny_theft  Motor_theft  \\\n",
       "count      351.000         351.000   351.000        351.000      351.000   \n",
       "mean       121.261         792.606   119.684        637.017       35.905   \n",
       "std       1698.804        7626.827   920.976       6318.799      401.691   \n",
       "min          0.000           0.000     0.000          0.000        0.000   \n",
       "25%          1.000          41.000     6.000         31.000        0.000   \n",
       "50%          5.000         114.000    18.000         95.000        2.000   \n",
       "75%         14.500         343.000    52.500        290.000        7.000   \n",
       "max      31767.000      141971.000 16606.000     117931.000     7434.000   \n",
       "\n",
       "        Arson  \n",
       "count 351.000  \n",
       "mean    1.872  \n",
       "std     7.795  \n",
       "min     0.000  \n",
       "25%     0.000  \n",
       "50%     1.872  \n",
       "75%     1.872  \n",
       "max   132.000  "
      ]
     },
     "execution_count": 12,
     "metadata": {},
     "output_type": "execute_result"
    }
   ],
   "source": [
    "crime.describe()"
   ]
  },
  {
   "cell_type": "code",
   "execution_count": 13,
   "metadata": {},
   "outputs": [],
   "source": [
    "df = crime[['Property_crime', 'Population', 'Burglary', 'Larceny_theft', 'Robbery','Motor_theft']]\n",
    "\n"
   ]
  },
  {
   "cell_type": "code",
   "execution_count": 26,
   "metadata": {},
   "outputs": [
    {
     "data": {
      "image/png": "[encoded data removed]",
      "text/plain": [
       "<Figure size 864x648 with 2 Axes>"
      ]
     },
     "metadata": {
      "needs_background": "light"
     },
     "output_type": "display_data"
    }
   ],
   "source": [
    "correlation = df.corr()\n",
    "f, ax = plt.subplots(figsize=(12, 9))\n",
    "heatmap = sns.heatmap(correlation, square=True)"
   ]
  },
  {
   "cell_type": "code",
   "execution_count": 21,
   "metadata": {},
   "outputs": [],
   "source": [
    "target = df['Property_crime']\n",
    "data = df[['Population', 'Burglary', 'Larceny_theft', 'Robbery','Motor_theft']]"
   ]
  },
  {
   "cell_type": "code",
   "execution_count": 16,
   "metadata": {},
   "outputs": [
    {
     "name": "stdout",
     "output_type": "stream",
     "text": [
      "<class 'pandas.core.frame.DataFrame'>\n",
      "Int64Index: 280 entries, 245 to 176\n",
      "Data columns (total 5 columns):\n",
      "Population       280 non-null float64\n",
      "Burglary         280 non-null float64\n",
      "Larceny_theft    280 non-null float64\n",
      "Robbery          280 non-null float64\n",
      "Motor_theft      280 non-null float64\n",
      "dtypes: float64(5)\n",
      "memory usage: 13.1 KB\n"
     ]
    }
   ],
   "source": [
    "x_train, x_test, y_train, y_test = train_test_split(data, target, test_size=.2, random_state=0)\n",
    "\n",
    "x_train.info()"
   ]
  },
  {
   "cell_type": "code",
   "execution_count": 17,
   "metadata": {},
   "outputs": [
    {
     "name": "stdout",
     "output_type": "stream",
     "text": [
      "0.7469251960789154\n",
      "Accuracy for Decision Tree Regression: 98.15883520531037%\n",
      "Accuracy for KNeighbors Regression: 77.99305889403003%\n"
     ]
    }
   ],
   "source": [
    "from sklearn.tree import DecisionTreeRegressor\n",
    "from sklearn.neighbors import KNeighborsRegressor\n",
    "from sklearn.metrics import r2_score\n",
    "\n",
    "clrTree = DecisionTreeRegressor() \n",
    "clrTree = clrTree.fit(x_train, y_train) \n",
    "outTree = clrTree.predict(x_test)\n",
    "\n",
    "clrKN = KNeighborsRegressor() \n",
    "clrKN = clrKN.fit(x_train, y_train) \n",
    "outKN = clrKN.predict(x_test)\n",
    "\n",
    "from sklearn.model_selection import cross_val_score\n",
    "print(cross_val_score(clrTree, data, target, cv=4).mean())\n",
    "\n",
    "\n",
    "print(\"Accuracy for Decision Tree Regression: \" + str(r2_score(y_test, outTree)*100)+\"%\") \n",
    "print(\"Accuracy for KNeighbors Regression: \" + str(r2_score(y_test, outKN)*100)+\"%\")"
   ]
  },
  {
   "cell_type": "code",
   "execution_count": 18,
   "metadata": {},
   "outputs": [
    {
     "name": "stdout",
     "output_type": "stream",
     "text": [
      "R-Squared for Decision Tree Regression: 100.0%\n"
     ]
    }
   ],
   "source": [
    "from sklearn.linear_model import LinearRegression\n",
    "\n",
    "clrLin = LinearRegression() \n",
    "clrLin = clrLin.fit(x_train, y_train) \n",
    "outLin = clrLin.predict(x_test)\n",
    "\n",
    "print(\"R-Squared for Decision Tree Regression: \" + str(r2_score(y_test, outLin)*100)+\"%\") \n"
   ]
  },
  {
   "cell_type": "markdown",
   "metadata": {},
   "source": [
    "## Submit a notebook with your model and a brief writeup of your feature engineering and selection process to submit and review with your mentor."
   ]
  },
  {
   "cell_type": "markdown",
   "metadata": {},
   "source": [
    "### The features I chose were Population, Burglary, Property_damage as a combination of larceny and motor theft. I chose these features because I believe they influence my data the most. I chose to leave out arson because while it is certainly a part of property crimes, it happens with such few occurences that I didn't feel it compared to the other crimes. I did do another model where I added it just to see and my model was less accurate. "
   ]
  },
  {
   "cell_type": "code",
   "execution_count": null,
   "metadata": {},
   "outputs": [],
   "source": []
  },
  {
   "cell_type": "code",
   "execution_count": null,
   "metadata": {},
   "outputs": [],
   "source": []
  }
 ],
 "metadata": {
  "kernelspec": {
   "display_name": "Python 3",
   "language": "python",
   "name": "python3"
  },
  "language_info": {
   "codemirror_mode": {
    "name": "ipython",
    "version": 3
   },
   "file_extension": ".py",
   "mimetype": "text/x-python",
   "name": "python",
   "nbconvert_exporter": "python",
   "pygments_lexer": "ipython3",
   "version": "3.7.1"
  }
 },
 "nbformat": 4,
 "nbformat_minor": 2
}
