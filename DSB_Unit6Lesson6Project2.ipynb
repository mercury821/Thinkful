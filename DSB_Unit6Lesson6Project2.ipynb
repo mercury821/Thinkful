{
  "nbformat": 4,
  "nbformat_minor": 0,
  "metadata": {
    "colab": {
      "name": "DSB_Unit6Lesson6Project2",
      "provenance": [],
      "include_colab_link": true
    },
    "kernelspec": {
      "name": "python3",
      "display_name": "Python 3"
    }
  },
  "cells": [
    {
      "cell_type": "markdown",
      "metadata": {
        "id": "view-in-github",
        "colab_type": "text"
      },
      "source": [
        "<a href=\"https://colab.research.google.com/github/mercury821/Thinkful/blob/master/DSB_Unit6Lesson6Project2.ipynb\" target=\"_parent\"><img src=\"https://colab.research.google.com/assets/colab-badge.svg\" alt=\"Open In Colab\"/></a>"
      ]
    },
    {
      "cell_type": "code",
      "metadata": {
        "id": "ZDMwJI7D4RrB",
        "colab_type": "code",
        "colab": {}
      },
      "source": [
        "import tensorflow as tf"
      ],
      "execution_count": 0,
      "outputs": []
    },
    {
      "cell_type": "code",
      "metadata": {
        "id": "MOrTsrch4Y-d",
        "colab_type": "code",
        "outputId": "f2e38017-c70c-4758-d846-ee35bdc2afcc",
        "colab": {
          "base_uri": "https://localhost:8080/",
          "height": 34
        }
      },
      "source": [
        "[3, 2, 1]\n",
        "[[3, 2], [1, 3]]\n",
        "[[[1], [2]], [[1], [2]]]\n",
        "2"
      ],
      "execution_count": 6,
      "outputs": [
        {
          "output_type": "execute_result",
          "data": {
            "text/plain": [
              "2"
            ]
          },
          "metadata": {
            "tags": []
          },
          "execution_count": 6
        }
      ]
    },
    {
      "cell_type": "code",
      "metadata": {
        "id": "VqyJUWLW4bw9",
        "colab_type": "code",
        "outputId": "426c548b-9a7b-4ac5-cae0-b9bd7d243cb8",
        "colab": {
          "base_uri": "https://localhost:8080/",
          "height": 34
        }
      },
      "source": [
        "# Create the Node\n",
        "node_const = tf.constant(70)\n",
        "\n",
        "# Print the Node\n",
        "print(node_const)"
      ],
      "execution_count": 7,
      "outputs": [
        {
          "output_type": "stream",
          "text": [
            "Tensor(\"Const:0\", shape=(), dtype=int32)\n"
          ],
          "name": "stdout"
        }
      ]
    },
    {
      "cell_type": "code",
      "metadata": {
        "id": "g-BSmId54gcX",
        "colab_type": "code",
        "outputId": "89ef95bf-60ae-4f5b-eaae-c9c043809525",
        "colab": {
          "base_uri": "https://localhost:8080/",
          "height": 34
        }
      },
      "source": [
        "# Let's make a node that adds our constant to itself\n",
        "node_add = tf.add(node_const, node_const)\n",
        "\n",
        "# Print that node!\n",
        "print(node_add)"
      ],
      "execution_count": 8,
      "outputs": [
        {
          "output_type": "stream",
          "text": [
            "Tensor(\"Add:0\", shape=(), dtype=int32)\n"
          ],
          "name": "stdout"
        }
      ]
    },
    {
      "cell_type": "code",
      "metadata": {
        "id": "AxcEW3_24hCF",
        "colab_type": "code",
        "outputId": "e00050c9-685b-4c66-bada-50a3bdc61388",
        "colab": {
          "base_uri": "https://localhost:8080/",
          "height": 34
        }
      },
      "source": [
        "# Initiate our node with a default data type\n",
        "node_place = tf.placeholder(tf.int32)\n",
        "\n",
        "# Print it again!\n",
        "print(node_place)"
      ],
      "execution_count": 9,
      "outputs": [
        {
          "output_type": "stream",
          "text": [
            "Tensor(\"Placeholder:0\", dtype=int32)\n"
          ],
          "name": "stdout"
        }
      ]
    },
    {
      "cell_type": "code",
      "metadata": {
        "id": "iKoeYw8l4oPq",
        "colab_type": "code",
        "outputId": "b48c9545-9710-407d-ff6f-f7a486687d12",
        "colab": {
          "base_uri": "https://localhost:8080/",
          "height": 34
        }
      },
      "source": [
        "sess = tf.Session()\n",
        "\n",
        "sess.run(node_const)"
      ],
      "execution_count": 10,
      "outputs": [
        {
          "output_type": "execute_result",
          "data": {
            "text/plain": [
              "70"
            ]
          },
          "metadata": {
            "tags": []
          },
          "execution_count": 10
        }
      ]
    },
    {
      "cell_type": "code",
      "metadata": {
        "id": "Ps17kPD25E0Z",
        "colab_type": "code",
        "outputId": "c2bfce09-dc26-4864-bc74-707b9e617006",
        "colab": {
          "base_uri": "https://localhost:8080/",
          "height": 34
        }
      },
      "source": [
        "# Establish a placeholder, named 'a'\n",
        "a = tf.placeholder(tf.int32)\n",
        "\n",
        "# Create an operator node that takes our placeholder and a constant node\n",
        "multiply_by_2 = tf.multiply(a, tf.constant(2))\n",
        "\n",
        "# Run the node to return our output\n",
        "sess.run(multiply_by_2, {a : 3})"
      ],
      "execution_count": 11,
      "outputs": [
        {
          "output_type": "execute_result",
          "data": {
            "text/plain": [
              "6"
            ]
          },
          "metadata": {
            "tags": []
          },
          "execution_count": 11
        }
      ]
    },
    {
      "cell_type": "code",
      "metadata": {
        "id": "ghH3kpHr5Jup",
        "colab_type": "code",
        "outputId": "54828d40-af23-444b-8b68-e6e2b1daef8f",
        "colab": {
          "base_uri": "https://localhost:8080/",
          "height": 50
        }
      },
      "source": [
        "sess.run(multiply_by_2, {a : [[3, 4, 81], [2, 31, 13]]})"
      ],
      "execution_count": 12,
      "outputs": [
        {
          "output_type": "execute_result",
          "data": {
            "text/plain": [
              "array([[  6,   8, 162],\n",
              "       [  4,  62,  26]], dtype=int32)"
            ]
          },
          "metadata": {
            "tags": []
          },
          "execution_count": 12
        }
      ]
    },
    {
      "cell_type": "code",
      "metadata": {
        "id": "G6wgtXj16E4a",
        "colab_type": "code",
        "colab": {
          "base_uri": "https://localhost:8080/",
          "height": 34
        },
        "outputId": "7dbe44ea-17f3-4251-8942-0842ab69233b"
      },
      "source": [
        "# Create the Node\n",
        "node_const2 = tf.constant(2)\n",
        "node_const3 = tf.constant(3)\n",
        "# Let's make a node that adds our constant to itself\n",
        "node_add = tf.add(node_const2, node_const3)\n",
        "\n",
        "# Print that node!\n",
        "print(node_add)"
      ],
      "execution_count": 13,
      "outputs": [
        {
          "output_type": "stream",
          "text": [
            "Tensor(\"Add_1:0\", shape=(), dtype=int32)\n"
          ],
          "name": "stdout"
        }
      ]
    },
    {
      "cell_type": "code",
      "metadata": {
        "id": "v9d6lG2cWZ38",
        "colab_type": "code",
        "colab": {}
      },
      "source": [
        "# Establish a placeholder, named 'a'\n",
        "a = tf.placeholder(tf.int32)\n",
        "\n",
        "# Create an operator node that takes our placeholder and a constant node\n",
        "divide_by_2 = tf.divide(a, tf.constant(2))"
      ],
      "execution_count": 0,
      "outputs": []
    },
    {
      "cell_type": "code",
      "metadata": {
        "id": "howWUPctWl8n",
        "colab_type": "code",
        "colab": {}
      },
      "source": [
        "# Establish a placeholder, named 'a'\n",
        "a = tf.placeholder(tf.int32)\n",
        "b = tf.placeholder(tf.int32)\n",
        "\n",
        "# Create an operator node that takes our placeholder and a constant node\n",
        "multiply_ab = tf.multiply(a, b)"
      ],
      "execution_count": 0,
      "outputs": []
    },
    {
      "cell_type": "code",
      "metadata": {
        "id": "n6m3-fvjXB59",
        "colab_type": "code",
        "colab": {
          "base_uri": "https://localhost:8080/",
          "height": 34
        },
        "outputId": "5e2a527a-feee-4c98-c864-d66e0990af91"
      },
      "source": [
        "# Create the Node\n",
        "node_const7 = tf.constant(7)\n",
        "c = tf.placeholder(tf.int32)\n",
        "# Let's make a node that adds our constant to itself\n",
        "node_add = tf.add(node_const7, c)\n",
        "multiply_2 = tf.multiply(node_add, tf.constant(2))\n",
        "# Print that node!\n",
        "print(node_add)"
      ],
      "execution_count": 16,
      "outputs": [
        {
          "output_type": "stream",
          "text": [
            "Tensor(\"Add_2:0\", dtype=int32)\n"
          ],
          "name": "stdout"
        }
      ]
    }
  ]
}