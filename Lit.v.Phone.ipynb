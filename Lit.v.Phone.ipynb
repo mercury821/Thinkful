import pandas as pd
import numpy as np 
import matplotlib.pyplot as plt 



df = pd.read_csv('countries of the world.csv')

df = df.dropna()

df['Literacy (%)'] = df['Literacy (%)'].str.replace(',','.')

df['Literacy (%)'] = df['Literacy (%)'].apply(float)

df['Phones (per 1000)'] = df['Phones (per 1000)'].str.replace(',','.')

df['Phones (per 1000)'] = df['Phones (per 1000)'].apply(float)

plt.scatter(x = df['Phones (per 1000)'], y = df['Literacy (%)'], color='red')
plt.title('Countries of the World Comparison')
plt.xlabel('Phones')
plt.ylabel('Literacy (%)')
plt.show()